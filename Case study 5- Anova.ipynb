{
 "cells": [
  {
   "cell_type": "code",
   "execution_count": 2,
   "id": "f1fb3144",
   "metadata": {},
   "outputs": [],
   "source": [
    "import numpy as np\n",
    "import pandas as pd\n",
    "import seaborn as sns\n",
    "import matplotlib.pyplot as plt\n",
    "import warnings\n",
    "warnings.filterwarnings('ignore')\n",
    "import scipy.stats as stats"
   ]
  },
  {
   "cell_type": "code",
   "execution_count": 3,
   "id": "921ec116",
   "metadata": {},
   "outputs": [],
   "source": [
    "data=pd.read_csv(\"C:\\\\Users\\\\75833\\\\Downloads\\\\Sales_data_zone_wise.csv\")"
   ]
  },
  {
   "cell_type": "code",
   "execution_count": 4,
   "id": "58fbec95",
   "metadata": {},
   "outputs": [
    {
     "data": {
      "text/html": [
       "<div>\n",
       "<style scoped>\n",
       "    .dataframe tbody tr th:only-of-type {\n",
       "        vertical-align: middle;\n",
       "    }\n",
       "\n",
       "    .dataframe tbody tr th {\n",
       "        vertical-align: top;\n",
       "    }\n",
       "\n",
       "    .dataframe thead th {\n",
       "        text-align: right;\n",
       "    }\n",
       "</style>\n",
       "<table border=\"1\" class=\"dataframe\">\n",
       "  <thead>\n",
       "    <tr style=\"text-align: right;\">\n",
       "      <th></th>\n",
       "      <th>Month</th>\n",
       "      <th>Zone - A</th>\n",
       "      <th>Zone - B</th>\n",
       "      <th>Zone - C</th>\n",
       "      <th>Zone - D</th>\n",
       "    </tr>\n",
       "  </thead>\n",
       "  <tbody>\n",
       "    <tr>\n",
       "      <th>0</th>\n",
       "      <td>Month - 1</td>\n",
       "      <td>1483525</td>\n",
       "      <td>1748451</td>\n",
       "      <td>1523308</td>\n",
       "      <td>2267260</td>\n",
       "    </tr>\n",
       "    <tr>\n",
       "      <th>1</th>\n",
       "      <td>Month - 2</td>\n",
       "      <td>1238428</td>\n",
       "      <td>1707421</td>\n",
       "      <td>2212113</td>\n",
       "      <td>1994341</td>\n",
       "    </tr>\n",
       "    <tr>\n",
       "      <th>2</th>\n",
       "      <td>Month - 3</td>\n",
       "      <td>1860771</td>\n",
       "      <td>2091194</td>\n",
       "      <td>1282374</td>\n",
       "      <td>1241600</td>\n",
       "    </tr>\n",
       "    <tr>\n",
       "      <th>3</th>\n",
       "      <td>Month - 4</td>\n",
       "      <td>1871571</td>\n",
       "      <td>1759617</td>\n",
       "      <td>2290580</td>\n",
       "      <td>2252681</td>\n",
       "    </tr>\n",
       "    <tr>\n",
       "      <th>4</th>\n",
       "      <td>Month - 5</td>\n",
       "      <td>1244922</td>\n",
       "      <td>1606010</td>\n",
       "      <td>1818334</td>\n",
       "      <td>1326062</td>\n",
       "    </tr>\n",
       "  </tbody>\n",
       "</table>\n",
       "</div>"
      ],
      "text/plain": [
       "       Month  Zone - A  Zone - B  Zone - C  Zone - D\n",
       "0  Month - 1   1483525   1748451   1523308   2267260\n",
       "1  Month - 2   1238428   1707421   2212113   1994341\n",
       "2  Month - 3   1860771   2091194   1282374   1241600\n",
       "3  Month - 4   1871571   1759617   2290580   2252681\n",
       "4  Month - 5   1244922   1606010   1818334   1326062"
      ]
     },
     "execution_count": 4,
     "metadata": {},
     "output_type": "execute_result"
    }
   ],
   "source": [
    "data.head()"
   ]
  },
  {
   "cell_type": "code",
   "execution_count": 5,
   "id": "23f920bd",
   "metadata": {},
   "outputs": [
    {
     "data": {
      "text/plain": [
       "(29, 5)"
      ]
     },
     "execution_count": 5,
     "metadata": {},
     "output_type": "execute_result"
    }
   ],
   "source": [
    "data.shape"
   ]
  },
  {
   "cell_type": "code",
   "execution_count": 6,
   "id": "c27f69f0",
   "metadata": {},
   "outputs": [
    {
     "name": "stdout",
     "output_type": "stream",
     "text": [
      "<class 'pandas.core.frame.DataFrame'>\n",
      "RangeIndex: 29 entries, 0 to 28\n",
      "Data columns (total 5 columns):\n",
      " #   Column    Non-Null Count  Dtype \n",
      "---  ------    --------------  ----- \n",
      " 0   Month     29 non-null     object\n",
      " 1   Zone - A  29 non-null     int64 \n",
      " 2   Zone - B  29 non-null     int64 \n",
      " 3   Zone - C  29 non-null     int64 \n",
      " 4   Zone - D  29 non-null     int64 \n",
      "dtypes: int64(4), object(1)\n",
      "memory usage: 1.3+ KB\n"
     ]
    }
   ],
   "source": [
    "data.info()"
   ]
  },
  {
   "cell_type": "code",
   "execution_count": 7,
   "id": "1755ffec",
   "metadata": {},
   "outputs": [
    {
     "data": {
      "text/plain": [
       "Month       0\n",
       "Zone - A    0\n",
       "Zone - B    0\n",
       "Zone - C    0\n",
       "Zone - D    0\n",
       "dtype: int64"
      ]
     },
     "execution_count": 7,
     "metadata": {},
     "output_type": "execute_result"
    }
   ],
   "source": [
    "data.isnull().sum()"
   ]
  },
  {
   "cell_type": "code",
   "execution_count": 8,
   "id": "ef4f9846",
   "metadata": {},
   "outputs": [
    {
     "data": {
      "text/html": [
       "<div>\n",
       "<style scoped>\n",
       "    .dataframe tbody tr th:only-of-type {\n",
       "        vertical-align: middle;\n",
       "    }\n",
       "\n",
       "    .dataframe tbody tr th {\n",
       "        vertical-align: top;\n",
       "    }\n",
       "\n",
       "    .dataframe thead th {\n",
       "        text-align: right;\n",
       "    }\n",
       "</style>\n",
       "<table border=\"1\" class=\"dataframe\">\n",
       "  <thead>\n",
       "    <tr style=\"text-align: right;\">\n",
       "      <th></th>\n",
       "      <th>Zone - A</th>\n",
       "      <th>Zone - B</th>\n",
       "      <th>Zone - C</th>\n",
       "      <th>Zone - D</th>\n",
       "    </tr>\n",
       "  </thead>\n",
       "  <tbody>\n",
       "    <tr>\n",
       "      <th>count</th>\n",
       "      <td>2.900000e+01</td>\n",
       "      <td>2.900000e+01</td>\n",
       "      <td>2.900000e+01</td>\n",
       "      <td>2.900000e+01</td>\n",
       "    </tr>\n",
       "    <tr>\n",
       "      <th>mean</th>\n",
       "      <td>1.540493e+06</td>\n",
       "      <td>1.755560e+06</td>\n",
       "      <td>1.772871e+06</td>\n",
       "      <td>1.842927e+06</td>\n",
       "    </tr>\n",
       "    <tr>\n",
       "      <th>std</th>\n",
       "      <td>2.619401e+05</td>\n",
       "      <td>1.683899e+05</td>\n",
       "      <td>3.331937e+05</td>\n",
       "      <td>3.750165e+05</td>\n",
       "    </tr>\n",
       "    <tr>\n",
       "      <th>min</th>\n",
       "      <td>1.128185e+06</td>\n",
       "      <td>1.527574e+06</td>\n",
       "      <td>1.237722e+06</td>\n",
       "      <td>1.234311e+06</td>\n",
       "    </tr>\n",
       "    <tr>\n",
       "      <th>25%</th>\n",
       "      <td>1.305972e+06</td>\n",
       "      <td>1.606010e+06</td>\n",
       "      <td>1.523308e+06</td>\n",
       "      <td>1.520406e+06</td>\n",
       "    </tr>\n",
       "    <tr>\n",
       "      <th>50%</th>\n",
       "      <td>1.534390e+06</td>\n",
       "      <td>1.740365e+06</td>\n",
       "      <td>1.767047e+06</td>\n",
       "      <td>1.854412e+06</td>\n",
       "    </tr>\n",
       "    <tr>\n",
       "      <th>75%</th>\n",
       "      <td>1.820196e+06</td>\n",
       "      <td>1.875658e+06</td>\n",
       "      <td>2.098463e+06</td>\n",
       "      <td>2.180416e+06</td>\n",
       "    </tr>\n",
       "    <tr>\n",
       "      <th>max</th>\n",
       "      <td>2.004480e+06</td>\n",
       "      <td>2.091194e+06</td>\n",
       "      <td>2.290580e+06</td>\n",
       "      <td>2.364132e+06</td>\n",
       "    </tr>\n",
       "  </tbody>\n",
       "</table>\n",
       "</div>"
      ],
      "text/plain": [
       "           Zone - A      Zone - B      Zone - C      Zone - D\n",
       "count  2.900000e+01  2.900000e+01  2.900000e+01  2.900000e+01\n",
       "mean   1.540493e+06  1.755560e+06  1.772871e+06  1.842927e+06\n",
       "std    2.619401e+05  1.683899e+05  3.331937e+05  3.750165e+05\n",
       "min    1.128185e+06  1.527574e+06  1.237722e+06  1.234311e+06\n",
       "25%    1.305972e+06  1.606010e+06  1.523308e+06  1.520406e+06\n",
       "50%    1.534390e+06  1.740365e+06  1.767047e+06  1.854412e+06\n",
       "75%    1.820196e+06  1.875658e+06  2.098463e+06  2.180416e+06\n",
       "max    2.004480e+06  2.091194e+06  2.290580e+06  2.364132e+06"
      ]
     },
     "execution_count": 8,
     "metadata": {},
     "output_type": "execute_result"
    }
   ],
   "source": [
    "data.describe()"
   ]
  },
  {
   "cell_type": "markdown",
   "id": "962239fb",
   "metadata": {},
   "source": [
    "# ● The mean sales generated by each zone. "
   ]
  },
  {
   "cell_type": "code",
   "execution_count": 9,
   "id": "4968f504",
   "metadata": {},
   "outputs": [
    {
     "data": {
      "text/plain": [
       "Zone - A    1.540493e+06\n",
       "Zone - B    1.755560e+06\n",
       "Zone - C    1.772871e+06\n",
       "Zone - D    1.842927e+06\n",
       "dtype: float64"
      ]
     },
     "execution_count": 9,
     "metadata": {},
     "output_type": "execute_result"
    }
   ],
   "source": [
    "data.mean()"
   ]
  },
  {
   "cell_type": "code",
   "execution_count": 10,
   "id": "2863a963",
   "metadata": {},
   "outputs": [
    {
     "data": {
      "text/plain": [
       "<AxesSubplot:>"
      ]
     },
     "execution_count": 10,
     "metadata": {},
     "output_type": "execute_result"
    },
    {
     "data": {
      "image/png": "[encoded data removed]",
      "text/plain": [
       "<Figure size 432x288 with 1 Axes>"
      ]
     },
     "metadata": {
      "needs_background": "light"
     },
     "output_type": "display_data"
    }
   ],
   "source": [
    "data.mean().plot(kind='bar')"
   ]
  },
  {
   "cell_type": "code",
   "execution_count": 11,
   "id": "0b02318b",
   "metadata": {},
   "outputs": [],
   "source": [
    "# Zone-D has highest mean and Zone-A has least mean."
   ]
  },
  {
   "cell_type": "markdown",
   "id": "2dd9ad51",
   "metadata": {},
   "source": [
    "# ● Total sales generated by all the zones for each month."
   ]
  },
  {
   "cell_type": "code",
   "execution_count": 16,
   "id": "6df6578e",
   "metadata": {},
   "outputs": [
    {
     "name": "stdout",
     "output_type": "stream",
     "text": [
      "         Month  Zone - A  Zone - B  Zone - C  Zone - D      sum\n",
      "0    Month - 1   1483525   1748451   1523308   2267260  7022544\n",
      "1    Month - 2   1238428   1707421   2212113   1994341  7152303\n",
      "2    Month - 3   1860771   2091194   1282374   1241600  6475939\n",
      "3    Month - 4   1871571   1759617   2290580   2252681  8174449\n",
      "4    Month - 5   1244922   1606010   1818334   1326062  5995328\n",
      "5    Month - 6   1534390   1573128   1751825   2292044  7151387\n",
      "6    Month - 7   1820196   1992031   1786826   1688055  7287108\n",
      "7    Month - 8   1625696   1665534   2161754   2363315  7816299\n",
      "8    Month - 9   1652644   1873402   1755290   1422059  6703395\n",
      "9   Month - 10   1852450   1913059   1754314   1608387  7128210\n",
      "10  Month - 11   2004480   1740365   1317869   1970069  7032783\n",
      "11  Month - 12   1537539   1875658   1237722   1460165  6111084\n",
      "12  Month - 13   1254939   1588473   1348629   1733383  5925424\n",
      "13  Month - 14   1821799   1844081   1617376   1872259  7155515\n",
      "14  Month - 15   1128185   1804613   1767047   1234311  5934156\n",
      "15  Month - 16   1491534   1542053   1882159   1590913  6506659\n",
      "16  Month - 17   1182110   1552388   2234469   2180416  7149383\n",
      "17  Month - 18   1770324   1699213   1249821   2364132  7083490\n",
      "18  Month - 19   1181635   1959268   2009168   1821882  6971953\n",
      "19  Month - 20   1305972   1559670   2107949   2151008  7124599\n",
      "20  Month - 21   1570152   2013615   1540016   2265814  7389597\n",
      "21  Month - 22   1481619   1527574   2255729   2295079  7560001\n",
      "22  Month - 23   1887694   1992155   1348387   1459683  6687919\n",
      "23  Month - 24   1880820   1752873   2098463   2052591  7784747\n",
      "24  Month - 25   1256333   1622671   1521792   1695122  6095918\n",
      "25  Month - 26   1422853   1715465   1853636   1520406  6512360\n",
      "26  Month - 27   1384426   1983163   1611169   1289160  6267918\n",
      "27  Month - 28   1616640   1547991   2128022   2178267  7470920\n",
      "28  Month - 29   1310654   1660092   1947119   1854412  6772277\n"
     ]
    }
   ],
   "source": [
    "data[\"sum\"] = data.sum(axis=1)\n",
    "print(data)"
   ]
  },
  {
   "cell_type": "markdown",
   "id": "9aed7869",
   "metadata": {},
   "source": [
    "# ● Check whether all the zones generate the same amount of sales.\n",
    "\n",
    "One way Anova test:\n",
    "\n",
    "HYPOTHESIS:\n",
    "H0: μ1 = μ2 = μ3 = μ4  (where μ = mean)\n",
    "\n",
    "H1: At least one difference among the means  \n",
    "    "
   ]
  },
  {
   "cell_type": "code",
   "execution_count": 23,
   "id": "6b322af5",
   "metadata": {},
   "outputs": [
    {
     "name": "stdout",
     "output_type": "stream",
     "text": [
      "F-statistics :  5.672056106843581\n",
      "p-value :  0.0011827601694503335\n"
     ]
    }
   ],
   "source": [
    "f,p=stats.f_oneway(data['Zone - A'],data['Zone - B'],data['Zone - C'],data['Zone - D'])\n",
    "print('F-statistics : ',f)\n",
    "print('p-value : ',p)\n"
   ]
  },
  {
   "cell_type": "code",
   "execution_count": 25,
   "id": "b8ca8811",
   "metadata": {},
   "outputs": [],
   "source": [
    "#The F-test statistics value is 5.672056106843581 and the corresponding p-value is 0.0011827601694503335.\n",
    "#Since the p-value is less than 0.05, we reject the null hypothesis."
   ]
  },
  {
   "cell_type": "code",
   "execution_count": null,
   "id": "e4e2981e",
   "metadata": {},
   "outputs": [],
   "source": []
  }
 ],
 "metadata": {
  "kernelspec": {
   "display_name": "Python 3",
   "language": "python",
   "name": "python3"
  },
  "language_info": {
   "codemirror_mode": {
    "name": "ipython",
    "version": 3
   },
   "file_extension": ".py",
   "mimetype": "text/x-python",
   "name": "python",
   "nbconvert_exporter": "python",
   "pygments_lexer": "ipython3",
   "version": "3.8.8"
  }
 },
 "nbformat": 4,
 "nbformat_minor": 5
}
